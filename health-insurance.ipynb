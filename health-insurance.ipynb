{
 "cells": [
  {
   "cell_type": "code",
   "execution_count": 56,
   "metadata": {},
   "outputs": [],
   "source": [
    "from random import randint\n",
    "\n",
    "import pandas as pd\n",
    "import seaborn as sns\n",
    "import tensorflow as tf\n",
    "from keras import Sequential\n",
    "from keras.applications.densenet import layers\n",
    "from sklearn.ensemble import RandomForestClassifier\n",
    "from sklearn.linear_model import LogisticRegression\n",
    "from sklearn.model_selection import train_test_split, GridSearchCV, RandomizedSearchCV\n",
    "from sklearn.preprocessing import RobustScaler\n",
    "from tensorflow import keras"
   ]
  },
  {
   "cell_type": "markdown",
   "metadata": {},
   "source": [
    "Your Client FinMan is a financial services company that provides various financial services like loan, investment funds, insurance etc. to its customers. FinMan wishes to cross-sell health insurance to the existing customers who may or may not hold insurance policies with the company. The company recommend health insurance to it's customers based on their profile once these customers land on the website. Customers might browse the recommended health insurance policy and consequently fill up a form to apply. When these customers fill-up the form, their Response towards the policy is considered positive and they are classified as a lead.\n",
    "\n",
    "Once these leads are acquired, the sales advisors approach them to convert and thus the company can sell proposed health insurance to these leads in a more efficient manner."
   ]
  },
  {
   "cell_type": "markdown",
   "metadata": {},
   "source": [
    "## Erstelle aus `health-insurance.csv` einen DataFrame"
   ]
  },
  {
   "cell_type": "code",
   "execution_count": 57,
   "metadata": {},
   "outputs": [],
   "source": [
    "insurance = pd.read_csv('./data/health-insurance.csv')"
   ]
  },
  {
   "cell_type": "code",
   "execution_count": 58,
   "outputs": [
    {
     "data": {
      "text/plain": "   ID City_Code  Region_Code Accomodation_Type Reco_Insurance_Type  Upper_Age  \\\n0   1        C3         3213            Rented          Individual         36   \n1   2        C5         1117             Owned               Joint         75   \n2   3        C5         3732             Owned          Individual         32   \n3   4       C24         4378             Owned               Joint         52   \n4   5        C8         2190            Rented          Individual         44   \n5   6        C9         1785            Rented          Individual         52   \n6   7        C3          679             Owned          Individual         28   \n7   8        C1         3175             Owned               Joint         75   \n8   9       C15         3497             Owned               Joint         52   \n9  10        C1          530             Owned               Joint         59   \n\n   Lower_Age Is_Spouse Health_Indicator Holding_Policy_Duration  \\\n0         36        No               X1                     14+   \n1         22        No               X2                     NaN   \n2         32        No              NaN                     1.0   \n3         48        No               X1                     14+   \n4         44        No               X2                     3.0   \n5         52        No               X2                     5.0   \n6         28        No              NaN                     NaN   \n7         73       Yes               X4                     9.0   \n8         43        No               X1                    14.0   \n9         26       Yes              NaN                     7.0   \n\n   Holding_Policy_Type  Reco_Policy_Cat  Reco_Policy_Premium  Response  \n0                  3.0               22              11628.0         0  \n1                  NaN               22              30510.0         0  \n2                  1.0               19               7450.0         1  \n3                  3.0               19              17780.0         0  \n4                  1.0               16              10404.0         0  \n5                  1.0               22              15264.0         1  \n6                  NaN               17              10640.0         0  \n7                  4.0               17              29344.0         1  \n8                  3.0                1              27283.2         0  \n9                  4.0               18              21100.8         1  ",
      "text/html": "<div>\n<style scoped>\n    .dataframe tbody tr th:only-of-type {\n        vertical-align: middle;\n    }\n\n    .dataframe tbody tr th {\n        vertical-align: top;\n    }\n\n    .dataframe thead th {\n        text-align: right;\n    }\n</style>\n<table border=\"1\" class=\"dataframe\">\n  <thead>\n    <tr style=\"text-align: right;\">\n      <th></th>\n      <th>ID</th>\n      <th>City_Code</th>\n      <th>Region_Code</th>\n      <th>Accomodation_Type</th>\n      <th>Reco_Insurance_Type</th>\n      <th>Upper_Age</th>\n      <th>Lower_Age</th>\n      <th>Is_Spouse</th>\n      <th>Health_Indicator</th>\n      <th>Holding_Policy_Duration</th>\n      <th>Holding_Policy_Type</th>\n      <th>Reco_Policy_Cat</th>\n      <th>Reco_Policy_Premium</th>\n      <th>Response</th>\n    </tr>\n  </thead>\n  <tbody>\n    <tr>\n      <th>0</th>\n      <td>1</td>\n      <td>C3</td>\n      <td>3213</td>\n      <td>Rented</td>\n      <td>Individual</td>\n      <td>36</td>\n      <td>36</td>\n      <td>No</td>\n      <td>X1</td>\n      <td>14+</td>\n      <td>3.0</td>\n      <td>22</td>\n      <td>11628.0</td>\n      <td>0</td>\n    </tr>\n    <tr>\n      <th>1</th>\n      <td>2</td>\n      <td>C5</td>\n      <td>1117</td>\n      <td>Owned</td>\n      <td>Joint</td>\n      <td>75</td>\n      <td>22</td>\n      <td>No</td>\n      <td>X2</td>\n      <td>NaN</td>\n      <td>NaN</td>\n      <td>22</td>\n      <td>30510.0</td>\n      <td>0</td>\n    </tr>\n    <tr>\n      <th>2</th>\n      <td>3</td>\n      <td>C5</td>\n      <td>3732</td>\n      <td>Owned</td>\n      <td>Individual</td>\n      <td>32</td>\n      <td>32</td>\n      <td>No</td>\n      <td>NaN</td>\n      <td>1.0</td>\n      <td>1.0</td>\n      <td>19</td>\n      <td>7450.0</td>\n      <td>1</td>\n    </tr>\n    <tr>\n      <th>3</th>\n      <td>4</td>\n      <td>C24</td>\n      <td>4378</td>\n      <td>Owned</td>\n      <td>Joint</td>\n      <td>52</td>\n      <td>48</td>\n      <td>No</td>\n      <td>X1</td>\n      <td>14+</td>\n      <td>3.0</td>\n      <td>19</td>\n      <td>17780.0</td>\n      <td>0</td>\n    </tr>\n    <tr>\n      <th>4</th>\n      <td>5</td>\n      <td>C8</td>\n      <td>2190</td>\n      <td>Rented</td>\n      <td>Individual</td>\n      <td>44</td>\n      <td>44</td>\n      <td>No</td>\n      <td>X2</td>\n      <td>3.0</td>\n      <td>1.0</td>\n      <td>16</td>\n      <td>10404.0</td>\n      <td>0</td>\n    </tr>\n    <tr>\n      <th>5</th>\n      <td>6</td>\n      <td>C9</td>\n      <td>1785</td>\n      <td>Rented</td>\n      <td>Individual</td>\n      <td>52</td>\n      <td>52</td>\n      <td>No</td>\n      <td>X2</td>\n      <td>5.0</td>\n      <td>1.0</td>\n      <td>22</td>\n      <td>15264.0</td>\n      <td>1</td>\n    </tr>\n    <tr>\n      <th>6</th>\n      <td>7</td>\n      <td>C3</td>\n      <td>679</td>\n      <td>Owned</td>\n      <td>Individual</td>\n      <td>28</td>\n      <td>28</td>\n      <td>No</td>\n      <td>NaN</td>\n      <td>NaN</td>\n      <td>NaN</td>\n      <td>17</td>\n      <td>10640.0</td>\n      <td>0</td>\n    </tr>\n    <tr>\n      <th>7</th>\n      <td>8</td>\n      <td>C1</td>\n      <td>3175</td>\n      <td>Owned</td>\n      <td>Joint</td>\n      <td>75</td>\n      <td>73</td>\n      <td>Yes</td>\n      <td>X4</td>\n      <td>9.0</td>\n      <td>4.0</td>\n      <td>17</td>\n      <td>29344.0</td>\n      <td>1</td>\n    </tr>\n    <tr>\n      <th>8</th>\n      <td>9</td>\n      <td>C15</td>\n      <td>3497</td>\n      <td>Owned</td>\n      <td>Joint</td>\n      <td>52</td>\n      <td>43</td>\n      <td>No</td>\n      <td>X1</td>\n      <td>14.0</td>\n      <td>3.0</td>\n      <td>1</td>\n      <td>27283.2</td>\n      <td>0</td>\n    </tr>\n    <tr>\n      <th>9</th>\n      <td>10</td>\n      <td>C1</td>\n      <td>530</td>\n      <td>Owned</td>\n      <td>Joint</td>\n      <td>59</td>\n      <td>26</td>\n      <td>Yes</td>\n      <td>NaN</td>\n      <td>7.0</td>\n      <td>4.0</td>\n      <td>18</td>\n      <td>21100.8</td>\n      <td>1</td>\n    </tr>\n  </tbody>\n</table>\n</div>"
     },
     "execution_count": 58,
     "metadata": {},
     "output_type": "execute_result"
    }
   ],
   "source": [
    "insurance.head(10)"
   ],
   "metadata": {
    "collapsed": false
   }
  },
  {
   "cell_type": "markdown",
   "metadata": {},
   "source": [
    "## Data Cleaning\n",
    "\n",
    "* fehlende `Holding_Policy_Duration`/`Holding_Policy_Duration`-Werte sind gleich viele, sollten also gleich behandelt werden\n",
    "* betrachte die Ausprägungen von `Health Indicator`. Auch hier gibt es einige `NaN`s"
   ]
  },
  {
   "cell_type": "code",
   "execution_count": 59,
   "outputs": [
    {
     "data": {
      "text/plain": "array(['X1', 'X2', nan, 'X4', 'X3', 'X6', 'X5', 'X8', 'X7', 'X9'],\n      dtype=object)"
     },
     "execution_count": 59,
     "metadata": {},
     "output_type": "execute_result"
    }
   ],
   "source": [
    "#insurance.rename(columns={\"Health Indicator\": \"HealthIndicator\"})\n",
    "\n",
    "insurance.Health_Indicator.unique()\n"
   ],
   "metadata": {
    "collapsed": false
   }
  },
  {
   "cell_type": "code",
   "execution_count": 60,
   "outputs": [],
   "source": [
    "insurance= insurance.drop(columns=[\"ID\"])\n",
    "insurance = pd.get_dummies(data=insurance, columns=['Health_Indicator','Reco_Insurance_Type','Accomodation_Type','Is_Spouse','City_Code','Holding_Policy_Duration'])\n"
   ],
   "metadata": {
    "collapsed": false
   }
  },
  {
   "cell_type": "code",
   "execution_count": 61,
   "outputs": [],
   "source": [
    " insurance.fillna(insurance.mean(),inplace=True)"
   ],
   "metadata": {
    "collapsed": false
   }
  },
  {
   "cell_type": "markdown",
   "metadata": {},
   "source": [
    "## Training\n",
    "* 20% Testdaten\n",
    "* `random_state=42` sofern unterstützt\n",
    "* target feature: `Response`\n",
    "* Überlege, welche Metrik maximiert werden soll (*accuracy*/*recall*/*f1*) und was die Business Implikation des erhaltenen Modells ist, diese Metrik geht in die `GridSearchCV` als `scoring` ein\n",
    "* Trainiere mindestens\n",
    "    * eine optimierte `LogisticRegression` mit `GridSearchCV` (optimiere `solver`, `C` und `class_weight`)\n",
    "    * einen optimierten `RandomForestClassifier`\n",
    "    * zwei ANNs (eins mit `class_weights` und eins ohne).\n",
    "        `compile(metrics=[<metrik>]` kann entweder ein String übergeben werden oder eine Instanz einer Klasse aus `keras.metrics`"
   ]
  },
  {
   "cell_type": "code",
   "execution_count": 62,
   "outputs": [],
   "source": [
    "##precision maximieren\n",
    "\n",
    "X = insurance.drop(columns='Response')\n",
    "y = insurance.Response\n",
    "\n",
    "X_train, X_test, y_train, y_test = train_test_split(X, y, test_size=0.2, random_state=42)\n",
    "\n",
    "scaler = RobustScaler()\n",
    "X_train = scaler.fit_transform(X_train)\n",
    "X_test = scaler.transform(X_test)"
   ],
   "metadata": {
    "collapsed": false
   }
  },
  {
   "cell_type": "code",
   "execution_count": 63,
   "outputs": [
    {
     "data": {
      "text/plain": "0.2716902868994124"
     },
     "execution_count": 63,
     "metadata": {},
     "output_type": "execute_result"
    }
   ],
   "source": [
    "log_reg_cv = GridSearchCV(\n",
    "    estimator=LogisticRegression(),\n",
    "    param_grid={\n",
    "        'solver': ['sag', 'saga', 'newton-cg', 'lbfgs'],\n",
    "        'class_weight': [None, 'balanced'],\n",
    "        'C': [1.0]  #inverse Regularization\n",
    "    },\n",
    "    n_jobs=2,\n",
    "    scoring='precision',\n",
    "    cv=5,\n",
    ")\n",
    "log_reg_cv.fit(X_train, y_train)\n",
    "log_reg_cv.score(X_test, y_test)\n",
    "#precision 0.2716902868994124\n",
    "#accuracy 0.7554289083226884\n",
    "#recall 0.631578947368421"
   ],
   "metadata": {
    "collapsed": false
   }
  },
  {
   "cell_type": "code",
   "execution_count": 64,
   "outputs": [
    {
     "data": {
      "text/plain": "0.463452566096423"
     },
     "execution_count": 64,
     "metadata": {},
     "output_type": "execute_result"
    }
   ],
   "source": [
    "forest_cv = RandomizedSearchCV(\n",
    "    estimator=RandomForestClassifier(),\n",
    "    param_distributions={\n",
    "        'n_estimators': range(50,400,50),\n",
    "        'max_features': [1.0, 'sqrt', 'log2'],\n",
    "        'class_weight': [None, 'balanced', 'balanced_subsample']\n",
    "    },\n",
    "    n_jobs=2,\n",
    "    scoring='precision',\n",
    "    cv=3,\n",
    " #   n_iter=20,\n",
    ")\n",
    "forest_cv.fit(X_train, y_train)\n",
    "forest_cv.score(X_test, y_test)\n",
    "#accuracy 0.459214501510574\n",
    "#precision 0.4725609756097561\n",
    "#recall 0.45329249617151607\n"
   ],
   "metadata": {
    "collapsed": false
   }
  },
  {
   "cell_type": "code",
   "execution_count": 65,
   "outputs": [
    {
     "name": "stdout",
     "output_type": "stream",
     "text": [
      "Epoch 1/90\n",
      "1273/1273 [==============================] - 3s 2ms/step - loss: 0.5493 - precision: 0.2455 - val_loss: 0.5478 - val_precision: 0.0000e+00\n",
      "Epoch 2/90\n",
      "1273/1273 [==============================] - 2s 2ms/step - loss: 0.5401 - precision: 0.0000e+00 - val_loss: 0.5468 - val_precision: 0.0000e+00\n",
      "Epoch 3/90\n",
      "1273/1273 [==============================] - 2s 2ms/step - loss: 0.5380 - precision: 0.0000e+00 - val_loss: 0.5475 - val_precision: 0.0000e+00\n",
      "Epoch 4/90\n",
      "1273/1273 [==============================] - 2s 2ms/step - loss: 0.5362 - precision: 0.0000e+00 - val_loss: 0.5452 - val_precision: 0.0000e+00\n",
      "Epoch 5/90\n",
      "1273/1273 [==============================] - 2s 1ms/step - loss: 0.5344 - precision: 0.0000e+00 - val_loss: 0.5445 - val_precision: 0.0000e+00\n",
      "Epoch 6/90\n",
      "1273/1273 [==============================] - 2s 2ms/step - loss: 0.5328 - precision: 1.0000 - val_loss: 0.5455 - val_precision: 0.0000e+00\n",
      "Epoch 7/90\n",
      "1273/1273 [==============================] - 2s 2ms/step - loss: 0.5315 - precision: 0.6250 - val_loss: 0.5452 - val_precision: 0.0000e+00\n",
      "Epoch 8/90\n",
      "1273/1273 [==============================] - 2s 2ms/step - loss: 0.5303 - precision: 0.5652 - val_loss: 0.5445 - val_precision: 0.1667\n",
      "Epoch 9/90\n",
      "1273/1273 [==============================] - 2s 2ms/step - loss: 0.5291 - precision: 0.5581 - val_loss: 0.5444 - val_precision: 0.1000\n",
      "Epoch 10/90\n",
      "1273/1273 [==============================] - 2s 1ms/step - loss: 0.5280 - precision: 0.5068 - val_loss: 0.5456 - val_precision: 0.2143\n",
      "Epoch 11/90\n",
      "1273/1273 [==============================] - 2s 1ms/step - loss: 0.5271 - precision: 0.5800 - val_loss: 0.5455 - val_precision: 0.1429\n",
      "Epoch 12/90\n",
      "1273/1273 [==============================] - 2s 2ms/step - loss: 0.5258 - precision: 0.6099 - val_loss: 0.5473 - val_precision: 0.2308\n",
      "Epoch 13/90\n",
      "1273/1273 [==============================] - 2s 2ms/step - loss: 0.5249 - precision: 0.6420 - val_loss: 0.5458 - val_precision: 0.3596\n",
      "Epoch 14/90\n",
      "1273/1273 [==============================] - 2s 2ms/step - loss: 0.5235 - precision: 0.6117 - val_loss: 0.5467 - val_precision: 0.3153\n",
      "Epoch 15/90\n",
      "1273/1273 [==============================] - 2s 2ms/step - loss: 0.5229 - precision: 0.6226 - val_loss: 0.5463 - val_precision: 0.3608\n",
      "Epoch 16/90\n",
      "1273/1273 [==============================] - 2s 1ms/step - loss: 0.5222 - precision: 0.6095 - val_loss: 0.5473 - val_precision: 0.2973\n",
      "Epoch 17/90\n",
      "1273/1273 [==============================] - 2s 1ms/step - loss: 0.5212 - precision: 0.6063 - val_loss: 0.5481 - val_precision: 0.3333\n",
      "Epoch 18/90\n",
      "1273/1273 [==============================] - 2s 2ms/step - loss: 0.5204 - precision: 0.6146 - val_loss: 0.5492 - val_precision: 0.4194\n",
      "Epoch 19/90\n",
      "1273/1273 [==============================] - 2s 2ms/step - loss: 0.5197 - precision: 0.6150 - val_loss: 0.5483 - val_precision: 0.3840\n",
      "Epoch 20/90\n",
      "1273/1273 [==============================] - 2s 2ms/step - loss: 0.5190 - precision: 0.6054 - val_loss: 0.5488 - val_precision: 0.4600\n",
      "Epoch 21/90\n",
      "1273/1273 [==============================] - 2s 2ms/step - loss: 0.5182 - precision: 0.6266 - val_loss: 0.5490 - val_precision: 0.4321\n",
      "Epoch 22/90\n",
      "1273/1273 [==============================] - 2s 1ms/step - loss: 0.5178 - precision: 0.6024 - val_loss: 0.5505 - val_precision: 0.3415\n",
      "Epoch 23/90\n",
      "1273/1273 [==============================] - 2s 2ms/step - loss: 0.5174 - precision: 0.5966 - val_loss: 0.5496 - val_precision: 0.3797\n",
      "Epoch 24/90\n",
      "1273/1273 [==============================] - 2s 2ms/step - loss: 0.5171 - precision: 0.5921 - val_loss: 0.5514 - val_precision: 0.3862\n",
      "Epoch 25/90\n",
      "1273/1273 [==============================] - 2s 2ms/step - loss: 0.5161 - precision: 0.5956 - val_loss: 0.5520 - val_precision: 0.3786\n",
      "Epoch 26/90\n",
      "1273/1273 [==============================] - 2s 2ms/step - loss: 0.5159 - precision: 0.5948 - val_loss: 0.5511 - val_precision: 0.4145\n",
      "Epoch 27/90\n",
      "1273/1273 [==============================] - 2s 1ms/step - loss: 0.5151 - precision: 0.6013 - val_loss: 0.5518 - val_precision: 0.4000\n",
      "Epoch 28/90\n",
      "1273/1273 [==============================] - 2s 1ms/step - loss: 0.5149 - precision: 0.6360 - val_loss: 0.5529 - val_precision: 0.3819\n",
      "Epoch 29/90\n",
      "1273/1273 [==============================] - 2s 2ms/step - loss: 0.5145 - precision: 0.6129 - val_loss: 0.5528 - val_precision: 0.3870\n",
      "Epoch 30/90\n",
      "1273/1273 [==============================] - 2s 2ms/step - loss: 0.5143 - precision: 0.6059 - val_loss: 0.5523 - val_precision: 0.4354\n",
      "Epoch 31/90\n",
      "1273/1273 [==============================] - 2s 2ms/step - loss: 0.5139 - precision: 0.6088 - val_loss: 0.5526 - val_precision: 0.3727\n",
      "Epoch 32/90\n",
      "1273/1273 [==============================] - 2s 2ms/step - loss: 0.5133 - precision: 0.6047 - val_loss: 0.5531 - val_precision: 0.3775\n",
      "Epoch 33/90\n",
      "1273/1273 [==============================] - 2s 1ms/step - loss: 0.5129 - precision: 0.6086 - val_loss: 0.5550 - val_precision: 0.3540\n",
      "Epoch 34/90\n",
      "1273/1273 [==============================] - 2s 1ms/step - loss: 0.5128 - precision: 0.6092 - val_loss: 0.5554 - val_precision: 0.3774\n",
      "Epoch 35/90\n",
      "1273/1273 [==============================] - 2s 2ms/step - loss: 0.5126 - precision: 0.5955 - val_loss: 0.5548 - val_precision: 0.3656\n",
      "Epoch 36/90\n",
      "1273/1273 [==============================] - 2s 2ms/step - loss: 0.5121 - precision: 0.6129 - val_loss: 0.5538 - val_precision: 0.3784\n",
      "Epoch 37/90\n",
      "1273/1273 [==============================] - 2s 2ms/step - loss: 0.5118 - precision: 0.6089 - val_loss: 0.5544 - val_precision: 0.3784\n",
      "Epoch 38/90\n",
      "1273/1273 [==============================] - 2s 2ms/step - loss: 0.5116 - precision: 0.5987 - val_loss: 0.5539 - val_precision: 0.4068\n",
      "Epoch 39/90\n",
      "1273/1273 [==============================] - 2s 1ms/step - loss: 0.5114 - precision: 0.6060 - val_loss: 0.5546 - val_precision: 0.4262\n",
      "Epoch 40/90\n",
      "1273/1273 [==============================] - 2s 1ms/step - loss: 0.5111 - precision: 0.6157 - val_loss: 0.5560 - val_precision: 0.3664\n",
      "Epoch 41/90\n",
      "1273/1273 [==============================] - 2s 2ms/step - loss: 0.5107 - precision: 0.6112 - val_loss: 0.5558 - val_precision: 0.4010\n",
      "Epoch 42/90\n",
      "1273/1273 [==============================] - 2s 2ms/step - loss: 0.5107 - precision: 0.6114 - val_loss: 0.5561 - val_precision: 0.3630\n",
      "Epoch 43/90\n",
      "1273/1273 [==============================] - 2s 2ms/step - loss: 0.5103 - precision: 0.6165 - val_loss: 0.5574 - val_precision: 0.3933\n",
      "Epoch 44/90\n",
      "1273/1273 [==============================] - 2s 2ms/step - loss: 0.5102 - precision: 0.6145 - val_loss: 0.5573 - val_precision: 0.3727\n",
      "Epoch 45/90\n",
      "1273/1273 [==============================] - 2s 1ms/step - loss: 0.5100 - precision: 0.6138 - val_loss: 0.5584 - val_precision: 0.3741\n",
      "Epoch 46/90\n",
      "1273/1273 [==============================] - 2s 2ms/step - loss: 0.5096 - precision: 0.6157 - val_loss: 0.5573 - val_precision: 0.3708\n",
      "Epoch 47/90\n",
      "1273/1273 [==============================] - 2s 2ms/step - loss: 0.5094 - precision: 0.6120 - val_loss: 0.5586 - val_precision: 0.3628\n",
      "Epoch 48/90\n",
      "1273/1273 [==============================] - 2s 2ms/step - loss: 0.5091 - precision: 0.6217 - val_loss: 0.5586 - val_precision: 0.3548\n",
      "Epoch 49/90\n",
      "1273/1273 [==============================] - 2s 2ms/step - loss: 0.5087 - precision: 0.6025 - val_loss: 0.5578 - val_precision: 0.3619\n",
      "Epoch 50/90\n",
      "1273/1273 [==============================] - 2s 1ms/step - loss: 0.5086 - precision: 0.6228 - val_loss: 0.5588 - val_precision: 0.3526\n",
      "Epoch 51/90\n",
      "1273/1273 [==============================] - 2s 2ms/step - loss: 0.5083 - precision: 0.6123 - val_loss: 0.5598 - val_precision: 0.3524\n",
      "Epoch 52/90\n",
      "1273/1273 [==============================] - 2s 2ms/step - loss: 0.5082 - precision: 0.6093 - val_loss: 0.5586 - val_precision: 0.3438\n",
      "Epoch 53/90\n",
      "1273/1273 [==============================] - 2s 2ms/step - loss: 0.5079 - precision: 0.6091 - val_loss: 0.5627 - val_precision: 0.3516\n",
      "Epoch 54/90\n",
      "1273/1273 [==============================] - 2s 2ms/step - loss: 0.5079 - precision: 0.6053 - val_loss: 0.5602 - val_precision: 0.3568\n",
      "Epoch 55/90\n",
      "1273/1273 [==============================] - 2s 2ms/step - loss: 0.5075 - precision: 0.6084 - val_loss: 0.5597 - val_precision: 0.3511\n",
      "Epoch 56/90\n",
      "1273/1273 [==============================] - 2s 1ms/step - loss: 0.5072 - precision: 0.6069 - val_loss: 0.5597 - val_precision: 0.3609\n",
      "Epoch 57/90\n",
      "1273/1273 [==============================] - 2s 1ms/step - loss: 0.5070 - precision: 0.6169 - val_loss: 0.5599 - val_precision: 0.3488\n",
      "Epoch 58/90\n",
      "1273/1273 [==============================] - 2s 2ms/step - loss: 0.5070 - precision: 0.6212 - val_loss: 0.5598 - val_precision: 0.3640\n",
      "Epoch 59/90\n",
      "1273/1273 [==============================] - 2s 2ms/step - loss: 0.5066 - precision: 0.6102 - val_loss: 0.5608 - val_precision: 0.3631\n",
      "Epoch 60/90\n",
      "1273/1273 [==============================] - 2s 2ms/step - loss: 0.5066 - precision: 0.6380 - val_loss: 0.5589 - val_precision: 0.3417\n",
      "Epoch 61/90\n",
      "1273/1273 [==============================] - 2s 2ms/step - loss: 0.5064 - precision: 0.6239 - val_loss: 0.5604 - val_precision: 0.3743\n",
      "Epoch 62/90\n",
      "1273/1273 [==============================] - 2s 1ms/step - loss: 0.5064 - precision: 0.6110 - val_loss: 0.5592 - val_precision: 0.3701\n",
      "Epoch 63/90\n",
      "1273/1273 [==============================] - 2s 1ms/step - loss: 0.5060 - precision: 0.6254 - val_loss: 0.5637 - val_precision: 0.3609\n",
      "Epoch 64/90\n",
      "1273/1273 [==============================] - 2s 2ms/step - loss: 0.5060 - precision: 0.6199 - val_loss: 0.5599 - val_precision: 0.3743\n",
      "Epoch 65/90\n",
      "1273/1273 [==============================] - 2s 2ms/step - loss: 0.5058 - precision: 0.6107 - val_loss: 0.5625 - val_precision: 0.3458\n",
      "Epoch 66/90\n",
      "1273/1273 [==============================] - 2s 2ms/step - loss: 0.5057 - precision: 0.6137 - val_loss: 0.5610 - val_precision: 0.3612\n",
      "Epoch 67/90\n",
      "1273/1273 [==============================] - 2s 2ms/step - loss: 0.5051 - precision: 0.6149 - val_loss: 0.5633 - val_precision: 0.3388\n",
      "Epoch 68/90\n",
      "1273/1273 [==============================] - 2s 1ms/step - loss: 0.5049 - precision: 0.6240 - val_loss: 0.5621 - val_precision: 0.3385\n",
      "Epoch 69/90\n",
      "1273/1273 [==============================] - 2s 2ms/step - loss: 0.5051 - precision: 0.6257 - val_loss: 0.5615 - val_precision: 0.3531\n",
      "Epoch 70/90\n",
      "1273/1273 [==============================] - 2s 2ms/step - loss: 0.5053 - precision: 0.6254 - val_loss: 0.5648 - val_precision: 0.3415\n",
      "Epoch 71/90\n",
      "1273/1273 [==============================] - 2s 2ms/step - loss: 0.5044 - precision: 0.6193 - val_loss: 0.5630 - val_precision: 0.3529\n",
      "Epoch 72/90\n",
      "1273/1273 [==============================] - 2s 2ms/step - loss: 0.5046 - precision: 0.6204 - val_loss: 0.5633 - val_precision: 0.3498\n",
      "Epoch 73/90\n",
      "1273/1273 [==============================] - 2s 1ms/step - loss: 0.5042 - precision: 0.6222 - val_loss: 0.5624 - val_precision: 0.3579\n",
      "Epoch 74/90\n",
      "1273/1273 [==============================] - 2s 1ms/step - loss: 0.5043 - precision: 0.6288 - val_loss: 0.5629 - val_precision: 0.3311\n",
      "Epoch 75/90\n",
      "1273/1273 [==============================] - 2s 2ms/step - loss: 0.5043 - precision: 0.6180 - val_loss: 0.5620 - val_precision: 0.3417\n",
      "Epoch 76/90\n",
      "1273/1273 [==============================] - 2s 2ms/step - loss: 0.5040 - precision: 0.6234 - val_loss: 0.5643 - val_precision: 0.3281\n",
      "Epoch 77/90\n",
      "1273/1273 [==============================] - 2s 2ms/step - loss: 0.5034 - precision: 0.6279 - val_loss: 0.5663 - val_precision: 0.3506\n",
      "Epoch 78/90\n",
      "1273/1273 [==============================] - 2s 2ms/step - loss: 0.5035 - precision: 0.6207 - val_loss: 0.5678 - val_precision: 0.3732\n",
      "Epoch 79/90\n",
      "1273/1273 [==============================] - 2s 1ms/step - loss: 0.5035 - precision: 0.6295 - val_loss: 0.5637 - val_precision: 0.3497\n",
      "Epoch 80/90\n",
      "1273/1273 [==============================] - 2s 1ms/step - loss: 0.5033 - precision: 0.6232 - val_loss: 0.5644 - val_precision: 0.3528\n",
      "Epoch 81/90\n",
      "1273/1273 [==============================] - 2s 2ms/step - loss: 0.5032 - precision: 0.6340 - val_loss: 0.5641 - val_precision: 0.3457\n",
      "Epoch 82/90\n",
      "1273/1273 [==============================] - 2s 2ms/step - loss: 0.5030 - precision: 0.6246 - val_loss: 0.5651 - val_precision: 0.3457\n",
      "Epoch 83/90\n",
      "1273/1273 [==============================] - 2s 2ms/step - loss: 0.5026 - precision: 0.6272 - val_loss: 0.5648 - val_precision: 0.3456\n",
      "Epoch 84/90\n",
      "1273/1273 [==============================] - 2s 2ms/step - loss: 0.5027 - precision: 0.6226 - val_loss: 0.5672 - val_precision: 0.3529\n",
      "Epoch 85/90\n",
      "1273/1273 [==============================] - 2s 1ms/step - loss: 0.5025 - precision: 0.6289 - val_loss: 0.5662 - val_precision: 0.3686\n",
      "Epoch 86/90\n",
      "1273/1273 [==============================] - 2s 1ms/step - loss: 0.5023 - precision: 0.6207 - val_loss: 0.5652 - val_precision: 0.3521\n",
      "Epoch 87/90\n",
      "1273/1273 [==============================] - 2s 2ms/step - loss: 0.5022 - precision: 0.6351 - val_loss: 0.5679 - val_precision: 0.3509\n",
      "Epoch 88/90\n",
      "1273/1273 [==============================] - 3s 3ms/step - loss: 0.5025 - precision: 0.6238 - val_loss: 0.5642 - val_precision: 0.3429\n",
      "Epoch 89/90\n",
      "1273/1273 [==============================] - 3s 2ms/step - loss: 0.5020 - precision: 0.6335 - val_loss: 0.5648 - val_precision: 0.3433\n",
      "Epoch 90/90\n",
      "1273/1273 [==============================] - 2s 2ms/step - loss: 0.5020 - precision: 0.6327 - val_loss: 0.5646 - val_precision: 0.3723\n"
     ]
    },
    {
     "data": {
      "text/plain": "<AxesSubplot:>"
     },
     "execution_count": 65,
     "metadata": {},
     "output_type": "execute_result"
    },
    {
     "data": {
      "text/plain": "<Figure size 640x480 with 1 Axes>",
      "image/png": "[encoded data removed]"
     },
     "metadata": {},
     "output_type": "display_data"
    }
   ],
   "source": [
    "# without class weights\n",
    "ann = Sequential([\n",
    "    layers.Dense(units=20, activation='relu', dtype='float64'),\n",
    "    layers.Dense(units=10, activation='relu', dtype='float64'),\n",
    "    layers.Dense(units=1, activation='sigmoid', dtype='float64'),\n",
    "])\n",
    "\n",
    "ann.compile(optimizer='adam',\n",
    "            loss='binary_crossentropy',\n",
    "            metrics='Precision')\n",
    "\n",
    "history = ann.fit(X_train,\n",
    "                  y_train,\n",
    "                  batch_size=32,\n",
    "                  validation_data=(X_test, y_test),\n",
    "                  epochs=90,\n",
    "                  verbose=1,\n",
    "                  )\n",
    "sns.lineplot(data=history.history)"
   ],
   "metadata": {
    "collapsed": false
   }
  },
  {
   "cell_type": "code",
   "execution_count": 66,
   "outputs": [],
   "source": [
    "\n",
    "class_weights = dict(zip([0, 1], insurance.Response.value_counts().sum() / insurance.Response.value_counts()))\n",
    "ann_with_class_weights = Sequential([\n",
    "        layers.Dense(units=20, activation='relu', dtype='float64'),\n",
    "        layers.Dense(units=10, activation='relu', dtype='float64'),\n",
    "        layers.Dense(units=1, activation='sigmoid', dtype='float64'),\n",
    "    ])\n",
    "\n",
    "ann_with_class_weights.compile(optimizer='adam',\n",
    "                loss='binary_crossentropy',\n",
    "                metrics='Precision')\n"
   ],
   "metadata": {
    "collapsed": false
   }
  },
  {
   "cell_type": "code",
   "execution_count": 67,
   "outputs": [
    {
     "name": "stdout",
     "output_type": "stream",
     "text": [
      "Epoch 1/90\n",
      "1273/1273 [==============================] - 5s 3ms/step - loss: 1.3682 - precision: 0.2604 - val_loss: 0.6672 - val_precision: 0.2696\n",
      "Epoch 2/90\n",
      "1273/1273 [==============================] - 2s 2ms/step - loss: 1.3508 - precision: 0.2670 - val_loss: 0.6833 - val_precision: 0.2726\n",
      "Epoch 3/90\n",
      "1273/1273 [==============================] - 3s 2ms/step - loss: 1.3437 - precision: 0.2729 - val_loss: 0.6826 - val_precision: 0.2749\n",
      "Epoch 4/90\n",
      "1273/1273 [==============================] - 2s 2ms/step - loss: 1.3386 - precision: 0.2762 - val_loss: 0.6798 - val_precision: 0.2755\n",
      "Epoch 5/90\n",
      "1273/1273 [==============================] - 2s 2ms/step - loss: 1.3343 - precision: 0.2810 - val_loss: 0.6685 - val_precision: 0.2823\n",
      "Epoch 6/90\n",
      "1273/1273 [==============================] - 2s 2ms/step - loss: 1.3296 - precision: 0.2850 - val_loss: 0.6706 - val_precision: 0.2835\n",
      "Epoch 7/90\n",
      "1273/1273 [==============================] - 2s 2ms/step - loss: 1.3257 - precision: 0.2882 - val_loss: 0.6842 - val_precision: 0.2837\n",
      "Epoch 8/90\n",
      "1273/1273 [==============================] - 2s 2ms/step - loss: 1.3229 - precision: 0.2921 - val_loss: 0.6789 - val_precision: 0.2816\n",
      "Epoch 9/90\n",
      "1273/1273 [==============================] - 2s 2ms/step - loss: 1.3188 - precision: 0.2933 - val_loss: 0.6683 - val_precision: 0.2848\n",
      "Epoch 10/90\n",
      "1273/1273 [==============================] - 2s 2ms/step - loss: 1.3154 - precision: 0.2980 - val_loss: 0.6736 - val_precision: 0.2840\n",
      "Epoch 11/90\n",
      "1273/1273 [==============================] - 2s 2ms/step - loss: 1.3125 - precision: 0.3006 - val_loss: 0.6707 - val_precision: 0.2906\n",
      "Epoch 12/90\n",
      "1273/1273 [==============================] - 3s 2ms/step - loss: 1.3094 - precision: 0.3020 - val_loss: 0.6783 - val_precision: 0.2841\n",
      "Epoch 13/90\n",
      "1273/1273 [==============================] - 3s 3ms/step - loss: 1.3072 - precision: 0.3056 - val_loss: 0.6707 - val_precision: 0.2880\n",
      "Epoch 14/90\n",
      "1273/1273 [==============================] - 2s 2ms/step - loss: 1.3046 - precision: 0.3067 - val_loss: 0.6676 - val_precision: 0.2870\n",
      "Epoch 15/90\n",
      "1273/1273 [==============================] - 2s 2ms/step - loss: 1.3020 - precision: 0.3077 - val_loss: 0.6561 - val_precision: 0.2894\n",
      "Epoch 16/90\n",
      "1273/1273 [==============================] - 2s 2ms/step - loss: 1.3005 - precision: 0.3088 - val_loss: 0.6732 - val_precision: 0.2867\n",
      "Epoch 17/90\n",
      "1273/1273 [==============================] - 2s 2ms/step - loss: 1.2984 - precision: 0.3131 - val_loss: 0.6812 - val_precision: 0.2822\n",
      "Epoch 18/90\n",
      "1273/1273 [==============================] - 2s 2ms/step - loss: 1.2968 - precision: 0.3142 - val_loss: 0.6769 - val_precision: 0.2842\n",
      "Epoch 19/90\n",
      "1273/1273 [==============================] - 2s 2ms/step - loss: 1.2951 - precision: 0.3121 - val_loss: 0.6815 - val_precision: 0.2825\n",
      "Epoch 20/90\n",
      "1273/1273 [==============================] - 2s 2ms/step - loss: 1.2939 - precision: 0.3162 - val_loss: 0.6736 - val_precision: 0.2870\n",
      "Epoch 21/90\n",
      "1273/1273 [==============================] - 2s 2ms/step - loss: 1.2926 - precision: 0.3152 - val_loss: 0.6594 - val_precision: 0.2911\n",
      "Epoch 22/90\n",
      "1273/1273 [==============================] - 2s 2ms/step - loss: 1.2908 - precision: 0.3186 - val_loss: 0.6711 - val_precision: 0.2907\n",
      "Epoch 23/90\n",
      "1273/1273 [==============================] - 2s 2ms/step - loss: 1.2902 - precision: 0.3183 - val_loss: 0.6810 - val_precision: 0.2869\n",
      "Epoch 24/90\n",
      "1273/1273 [==============================] - 2s 2ms/step - loss: 1.2888 - precision: 0.3202 - val_loss: 0.6906 - val_precision: 0.2863\n",
      "Epoch 25/90\n",
      "1273/1273 [==============================] - 2s 2ms/step - loss: 1.2877 - precision: 0.3185 - val_loss: 0.6631 - val_precision: 0.2942\n",
      "Epoch 26/90\n",
      "1273/1273 [==============================] - 2s 2ms/step - loss: 1.2872 - precision: 0.3204 - val_loss: 0.6793 - val_precision: 0.2840\n",
      "Epoch 27/90\n",
      "1273/1273 [==============================] - 2s 2ms/step - loss: 1.2852 - precision: 0.3211 - val_loss: 0.6634 - val_precision: 0.2893\n",
      "Epoch 28/90\n",
      "1273/1273 [==============================] - 2s 2ms/step - loss: 1.2848 - precision: 0.3225 - val_loss: 0.6733 - val_precision: 0.2898\n",
      "Epoch 29/90\n",
      "1273/1273 [==============================] - 2s 2ms/step - loss: 1.2838 - precision: 0.3230 - val_loss: 0.6727 - val_precision: 0.2905\n",
      "Epoch 30/90\n",
      "1273/1273 [==============================] - 2s 2ms/step - loss: 1.2837 - precision: 0.3233 - val_loss: 0.6731 - val_precision: 0.2901\n",
      "Epoch 31/90\n",
      "1273/1273 [==============================] - 2s 2ms/step - loss: 1.2812 - precision: 0.3234 - val_loss: 0.7037 - val_precision: 0.2822\n",
      "Epoch 32/90\n",
      "1273/1273 [==============================] - 2s 2ms/step - loss: 1.2819 - precision: 0.3254 - val_loss: 0.6686 - val_precision: 0.2895\n",
      "Epoch 33/90\n",
      "1273/1273 [==============================] - 2s 2ms/step - loss: 1.2801 - precision: 0.3259 - val_loss: 0.6668 - val_precision: 0.2900\n",
      "Epoch 34/90\n",
      "1273/1273 [==============================] - 2s 2ms/step - loss: 1.2799 - precision: 0.3256 - val_loss: 0.6921 - val_precision: 0.2840\n",
      "Epoch 35/90\n",
      "1273/1273 [==============================] - 2s 2ms/step - loss: 1.2788 - precision: 0.3255 - val_loss: 0.6803 - val_precision: 0.2847\n",
      "Epoch 36/90\n",
      "1273/1273 [==============================] - 2s 2ms/step - loss: 1.2769 - precision: 0.3293 - val_loss: 0.6884 - val_precision: 0.2851\n",
      "Epoch 37/90\n",
      "1273/1273 [==============================] - 2s 2ms/step - loss: 1.2770 - precision: 0.3279 - val_loss: 0.7026 - val_precision: 0.2850\n",
      "Epoch 38/90\n",
      "1273/1273 [==============================] - 2s 2ms/step - loss: 1.2759 - precision: 0.3271 - val_loss: 0.6845 - val_precision: 0.2827\n",
      "Epoch 39/90\n",
      "1273/1273 [==============================] - 2s 2ms/step - loss: 1.2769 - precision: 0.3262 - val_loss: 0.6742 - val_precision: 0.2884\n",
      "Epoch 40/90\n",
      "1273/1273 [==============================] - 2s 2ms/step - loss: 1.2746 - precision: 0.3285 - val_loss: 0.6755 - val_precision: 0.2888\n",
      "Epoch 41/90\n",
      "1273/1273 [==============================] - 2s 2ms/step - loss: 1.2751 - precision: 0.3299 - val_loss: 0.6786 - val_precision: 0.2849\n",
      "Epoch 42/90\n",
      "1273/1273 [==============================] - 2s 2ms/step - loss: 1.2732 - precision: 0.3304 - val_loss: 0.6691 - val_precision: 0.2878\n",
      "Epoch 43/90\n",
      "1273/1273 [==============================] - 2s 2ms/step - loss: 1.2734 - precision: 0.3289 - val_loss: 0.6925 - val_precision: 0.2822\n",
      "Epoch 44/90\n",
      "1273/1273 [==============================] - 2s 2ms/step - loss: 1.2729 - precision: 0.3281 - val_loss: 0.6805 - val_precision: 0.2821\n",
      "Epoch 45/90\n",
      "1273/1273 [==============================] - 2s 2ms/step - loss: 1.2720 - precision: 0.3310 - val_loss: 0.6826 - val_precision: 0.2834\n",
      "Epoch 46/90\n",
      "1273/1273 [==============================] - 2s 2ms/step - loss: 1.2711 - precision: 0.3303 - val_loss: 0.6979 - val_precision: 0.2796\n",
      "Epoch 47/90\n",
      "1273/1273 [==============================] - 2s 2ms/step - loss: 1.2705 - precision: 0.3315 - val_loss: 0.6989 - val_precision: 0.2796\n",
      "Epoch 48/90\n",
      "1273/1273 [==============================] - 2s 2ms/step - loss: 1.2692 - precision: 0.3336 - val_loss: 0.7021 - val_precision: 0.2810\n",
      "Epoch 49/90\n",
      "1273/1273 [==============================] - 2s 2ms/step - loss: 1.2697 - precision: 0.3333 - val_loss: 0.6981 - val_precision: 0.2816\n",
      "Epoch 50/90\n",
      "1273/1273 [==============================] - 2s 2ms/step - loss: 1.2680 - precision: 0.3317 - val_loss: 0.6953 - val_precision: 0.2820\n",
      "Epoch 51/90\n",
      "1273/1273 [==============================] - 2s 2ms/step - loss: 1.2671 - precision: 0.3338 - val_loss: 0.6875 - val_precision: 0.2784\n",
      "Epoch 52/90\n",
      "1273/1273 [==============================] - 2s 2ms/step - loss: 1.2671 - precision: 0.3323 - val_loss: 0.6827 - val_precision: 0.2839\n",
      "Epoch 53/90\n",
      "1273/1273 [==============================] - 2s 2ms/step - loss: 1.2661 - precision: 0.3341 - val_loss: 0.6805 - val_precision: 0.2853\n",
      "Epoch 54/90\n",
      "1273/1273 [==============================] - 3s 2ms/step - loss: 1.2641 - precision: 0.3338 - val_loss: 0.6669 - val_precision: 0.2881\n",
      "Epoch 55/90\n",
      "1273/1273 [==============================] - 2s 2ms/step - loss: 1.2654 - precision: 0.3358 - val_loss: 0.6770 - val_precision: 0.2837\n",
      "Epoch 56/90\n",
      "1273/1273 [==============================] - 2s 2ms/step - loss: 1.2649 - precision: 0.3364 - val_loss: 0.6794 - val_precision: 0.2821\n",
      "Epoch 57/90\n",
      "1273/1273 [==============================] - 2s 2ms/step - loss: 1.2641 - precision: 0.3356 - val_loss: 0.6750 - val_precision: 0.2859\n",
      "Epoch 58/90\n",
      "1273/1273 [==============================] - 2s 2ms/step - loss: 1.2640 - precision: 0.3364 - val_loss: 0.6840 - val_precision: 0.2842\n",
      "Epoch 59/90\n",
      "1273/1273 [==============================] - 3s 2ms/step - loss: 1.2617 - precision: 0.3357 - val_loss: 0.6784 - val_precision: 0.2839\n",
      "Epoch 60/90\n",
      "1273/1273 [==============================] - 2s 2ms/step - loss: 1.2626 - precision: 0.3406 - val_loss: 0.6639 - val_precision: 0.2907\n",
      "Epoch 61/90\n",
      "1273/1273 [==============================] - 2s 2ms/step - loss: 1.2621 - precision: 0.3372 - val_loss: 0.6703 - val_precision: 0.2853\n",
      "Epoch 62/90\n",
      "1273/1273 [==============================] - 2s 2ms/step - loss: 1.2614 - precision: 0.3373 - val_loss: 0.6799 - val_precision: 0.2797\n",
      "Epoch 63/90\n",
      "1273/1273 [==============================] - 2s 2ms/step - loss: 1.2614 - precision: 0.3382 - val_loss: 0.6826 - val_precision: 0.2795\n",
      "Epoch 64/90\n",
      "1273/1273 [==============================] - 2s 2ms/step - loss: 1.2603 - precision: 0.3380 - val_loss: 0.6703 - val_precision: 0.2842\n",
      "Epoch 65/90\n",
      "1273/1273 [==============================] - 2s 2ms/step - loss: 1.2602 - precision: 0.3406 - val_loss: 0.6844 - val_precision: 0.2794\n",
      "Epoch 66/90\n",
      "1273/1273 [==============================] - 2s 2ms/step - loss: 1.2602 - precision: 0.3398 - val_loss: 0.7071 - val_precision: 0.2780\n",
      "Epoch 67/90\n",
      "1273/1273 [==============================] - 2s 2ms/step - loss: 1.2589 - precision: 0.3392 - val_loss: 0.6927 - val_precision: 0.2797\n",
      "Epoch 68/90\n",
      "1273/1273 [==============================] - 2s 2ms/step - loss: 1.2584 - precision: 0.3414 - val_loss: 0.7162 - val_precision: 0.2762\n",
      "Epoch 69/90\n",
      "1273/1273 [==============================] - 2s 2ms/step - loss: 1.2589 - precision: 0.3401 - val_loss: 0.6602 - val_precision: 0.2892\n",
      "Epoch 70/90\n",
      "1273/1273 [==============================] - 2s 2ms/step - loss: 1.2579 - precision: 0.3426 - val_loss: 0.7136 - val_precision: 0.2767\n",
      "Epoch 71/90\n",
      "1273/1273 [==============================] - 3s 2ms/step - loss: 1.2584 - precision: 0.3382 - val_loss: 0.6809 - val_precision: 0.2831\n",
      "Epoch 72/90\n",
      "1273/1273 [==============================] - 2s 2ms/step - loss: 1.2573 - precision: 0.3427 - val_loss: 0.6870 - val_precision: 0.2813\n",
      "Epoch 73/90\n",
      "1273/1273 [==============================] - 2s 2ms/step - loss: 1.2572 - precision: 0.3413 - val_loss: 0.6910 - val_precision: 0.2766\n",
      "Epoch 74/90\n",
      "1273/1273 [==============================] - 2s 2ms/step - loss: 1.2555 - precision: 0.3426 - val_loss: 0.7082 - val_precision: 0.2798\n",
      "Epoch 75/90\n",
      "1273/1273 [==============================] - 2s 2ms/step - loss: 1.2556 - precision: 0.3433 - val_loss: 0.6928 - val_precision: 0.2821\n",
      "Epoch 76/90\n",
      "1273/1273 [==============================] - 2s 2ms/step - loss: 1.2559 - precision: 0.3412 - val_loss: 0.6886 - val_precision: 0.2830\n",
      "Epoch 77/90\n",
      "1273/1273 [==============================] - 2s 2ms/step - loss: 1.2553 - precision: 0.3420 - val_loss: 0.6695 - val_precision: 0.2876\n",
      "Epoch 78/90\n",
      "1273/1273 [==============================] - 2s 2ms/step - loss: 1.2554 - precision: 0.3423 - val_loss: 0.6920 - val_precision: 0.2797\n",
      "Epoch 79/90\n",
      "1273/1273 [==============================] - 2s 2ms/step - loss: 1.2545 - precision: 0.3432 - val_loss: 0.6966 - val_precision: 0.2776\n",
      "Epoch 80/90\n",
      "1273/1273 [==============================] - 2s 2ms/step - loss: 1.2538 - precision: 0.3450 - val_loss: 0.7017 - val_precision: 0.2785\n",
      "Epoch 81/90\n",
      "1273/1273 [==============================] - 2s 2ms/step - loss: 1.2548 - precision: 0.3401 - val_loss: 0.6644 - val_precision: 0.2857\n",
      "Epoch 82/90\n",
      "1273/1273 [==============================] - 2s 2ms/step - loss: 1.2542 - precision: 0.3440 - val_loss: 0.6874 - val_precision: 0.2793\n",
      "Epoch 83/90\n",
      "1273/1273 [==============================] - 2s 2ms/step - loss: 1.2527 - precision: 0.3427 - val_loss: 0.6557 - val_precision: 0.2893\n",
      "Epoch 84/90\n",
      "1273/1273 [==============================] - 2s 2ms/step - loss: 1.2521 - precision: 0.3422 - val_loss: 0.7017 - val_precision: 0.2793\n",
      "Epoch 85/90\n",
      "1273/1273 [==============================] - 2s 2ms/step - loss: 1.2532 - precision: 0.3423 - val_loss: 0.6965 - val_precision: 0.2788\n",
      "Epoch 86/90\n",
      "1273/1273 [==============================] - 2s 2ms/step - loss: 1.2515 - precision: 0.3442 - val_loss: 0.6896 - val_precision: 0.2764\n",
      "Epoch 87/90\n",
      "1273/1273 [==============================] - 2s 2ms/step - loss: 1.2522 - precision: 0.3429 - val_loss: 0.6812 - val_precision: 0.2861\n",
      "Epoch 88/90\n",
      "1273/1273 [==============================] - 2s 2ms/step - loss: 1.2518 - precision: 0.3436 - val_loss: 0.6762 - val_precision: 0.2859\n",
      "Epoch 89/90\n",
      "1273/1273 [==============================] - 2s 2ms/step - loss: 1.2526 - precision: 0.3444 - val_loss: 0.6859 - val_precision: 0.2827\n",
      "Epoch 90/90\n",
      "1273/1273 [==============================] - 2s 2ms/step - loss: 1.2506 - precision: 0.3421 - val_loss: 0.6724 - val_precision: 0.2830\n"
     ]
    },
    {
     "data": {
      "text/plain": "<AxesSubplot:>"
     },
     "execution_count": 67,
     "metadata": {},
     "output_type": "execute_result"
    },
    {
     "data": {
      "text/plain": "<Figure size 640x480 with 1 Axes>",
      "image/png": "[encoded data removed]"
     },
     "metadata": {},
     "output_type": "display_data"
    }
   ],
   "source": [
    "\n",
    "history_with_class_weights = ann_with_class_weights.fit(X_train,\n",
    "                                     y_train,\n",
    "                                     batch_size=32,\n",
    "                                     validation_data=(X_test, y_test),\n",
    "                                     epochs=90,\n",
    "                                     verbose=1,\n",
    "                                     class_weight=class_weights,\n",
    "                                     )\n",
    "\n",
    "sns.lineplot(data=history_with_class_weights.history)"
   ],
   "metadata": {
    "collapsed": false
   }
  },
  {
   "cell_type": "code",
   "execution_count": 68,
   "outputs": [
    {
     "name": "stdout",
     "output_type": "stream",
     "text": [
      "319/319 [==============================] - 0s 1ms/step\n",
      "              precision    recall  f1-score   support\n",
      "\n",
      "           0       0.78      0.60      0.68      7688\n",
      "           1       0.28      0.48      0.36      2489\n",
      "\n",
      "    accuracy                           0.57     10177\n",
      "   macro avg       0.53      0.54      0.52     10177\n",
      "weighted avg       0.66      0.57      0.60     10177\n",
      "\n"
     ]
    }
   ],
   "source": [
    "from sklearn.metrics import classification_report\n",
    "\n",
    "print(classification_report(y_test, ann_with_class_weights.predict(X_test) > 0.5))"
   ],
   "metadata": {
    "collapsed": false
   }
  },
  {
   "cell_type": "code",
   "execution_count": 69,
   "outputs": [
    {
     "name": "stdout",
     "output_type": "stream",
     "text": [
      "319/319 [==============================] - 0s 981us/step\n",
      "              precision    recall  f1-score   support\n",
      "\n",
      "           0       0.76      0.97      0.85      7688\n",
      "           1       0.37      0.06      0.10      2489\n",
      "\n",
      "    accuracy                           0.75     10177\n",
      "   macro avg       0.57      0.51      0.47     10177\n",
      "weighted avg       0.67      0.75      0.67     10177\n",
      "\n"
     ]
    }
   ],
   "source": [
    "print(classification_report(y_test, ann.predict(X_test) > 0.5))"
   ],
   "metadata": {
    "collapsed": false
   }
  },
  {
   "cell_type": "code",
   "execution_count": 70,
   "outputs": [],
   "source": [
    "# ann.compile(optimizer='adam',\n",
    "#             loss='binary_crossentropy',\n",
    "#             metrics='Precision')\n",
    "#\n",
    "# history = ann.fit(X_train,\n",
    "#                   y_train,\n",
    "#                   batch_size=32,\n",
    "#                   validation_data=(X_test, y_test),\n",
    "#                   epochs=90,\n",
    "#                   verbose=1,\n",
    "#                   )\n",
    "#\n",
    "# ann_with_class_weights.compile(optimizer='adam',\n",
    "#                                loss='binary_crossentropy',\n",
    "#                                metrics='Precision')\n",
    "#\n",
    "# history_with_class_weights = ann_with_class_weights.fit(X_train,\n",
    "#                                                         y_train,\n",
    "#                                                         batch_size=32,\n",
    "#                                                         validation_data=(X_test, y_test),\n",
    "#                                                         epochs=90,\n",
    "#                                                         verbose=1,\n",
    "#                                                         class_weight=class_weights,\n",
    "#                                                         )"
   ],
   "metadata": {
    "collapsed": false
   }
  },
  {
   "cell_type": "code",
   "execution_count": 71,
   "outputs": [],
   "source": [
    "# print(classification_report(y_test, ann_with_class_weights.predict(X_test) > 0.5))\n",
    "#\n",
    "#"
   ],
   "metadata": {
    "collapsed": false
   }
  },
  {
   "cell_type": "code",
   "execution_count": 72,
   "outputs": [],
   "source": [
    "# print(classification_report(y_test, ann.predict(X_test) > 0.5))"
   ],
   "metadata": {
    "collapsed": false
   }
  },
  {
   "cell_type": "markdown",
   "metadata": {},
   "source": [
    "## Evaluiere die Modelle und Interpretiere deine Lösung bezüglich *precision*/*recall*/*f1*"
   ]
  },
  {
   "cell_type": "code",
   "execution_count": 72,
   "outputs": [],
   "source": [
    "#Das Ziel war  die Precision zu verbessern\n",
    "# Sprich die Vorhersage, mit der ein Kunde tatsächlich eine Gesundheitsversicherung abschließen würde\n",
    "\n",
    "#LogisticRegression\n",
    "# hat eine Precision-Score von 0.2716902868994124\n",
    "# schneidet schlechter als das RandomForestClassifier-Modell ab\n",
    "\n",
    "#RandomForestClassifier\n",
    "# hat eine Precision-Score von 0.4725609756097561\n",
    "\n",
    "#ANN ohne weights\n",
    "# hat eine schlechtere Precision als die Variante mit weights (0.28)\n",
    "# Die Gefahr für mehr false positives ist bei diesem Modell somit größer\n",
    "# False Positives sollten für eine gute Precision unbedingt vermieden werden\n",
    "\n",
    "#ANN mit weights\n",
    "# Hat eine Predicition von 0.37\n",
    "# Somit das bessere Modell\n"
   ],
   "metadata": {
    "collapsed": false
   }
  }
 ],
 "metadata": {
  "kernelspec": {
   "display_name": "Python 3",
   "language": "python",
   "name": "python3"
  },
  "language_info": {
   "codemirror_mode": {
    "name": "ipython",
    "version": 3
   },
   "file_extension": ".py",
   "mimetype": "text/x-python",
   "name": "python",
   "nbconvert_exporter": "python",
   "pygments_lexer": "ipython3",
   "version": "3.8.8"
  }
 },
 "nbformat": 4,
 "nbformat_minor": 1
}
